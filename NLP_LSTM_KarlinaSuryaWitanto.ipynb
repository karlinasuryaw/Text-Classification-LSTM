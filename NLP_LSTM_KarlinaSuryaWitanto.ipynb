{
  "nbformat": 4,
  "nbformat_minor": 0,
  "metadata": {
    "colab": {
      "name": "NLP-LSTM_KarlinaSuryaWitanto.ipynb",
      "provenance": [],
      "collapsed_sections": []
    },
    "kernelspec": {
      "name": "python3",
      "display_name": "Python 3"
    },
    "language_info": {
      "name": "python"
    }
  },
  "cells": [
    {
      "cell_type": "markdown",
      "metadata": {
        "id": "xDtNZPNwPnuX"
      },
      "source": [
        "# **Proyek I : Membuat Model NLP dengan TensorFlow - Dicoding x Kampus Merdeka**"
      ]
    },
    {
      "cell_type": "markdown",
      "metadata": {
        "id": "lWTZyAPdPzWT"
      },
      "source": [
        "# **DATA DIRI**\n",
        "\n",
        "* Nama      : Karlina Surya Witanto\n",
        "* ID        : M014V6051\n",
        "* PT        : Universitas Udayana\n",
        "* Email     : gabriella.linatan@gmail.com\n",
        "* Email SIB : m014v6051@dicoding.org"
      ]
    },
    {
      "cell_type": "markdown",
      "metadata": {
        "id": "HyinswrWP8Zt"
      },
      "source": [
        "# **1. Import Library & Import Dataset**"
      ]
    },
    {
      "cell_type": "markdown",
      "metadata": {
        "id": "KiE5Ee5dQCZW"
      },
      "source": [
        "Sumber Dataset : \n",
        "*   https://www.kaggle.com/kishanyadav/inshort-news?select=inshort_news_data-2.csv\n",
        "*   https://www.kaggle.com/kishanyadav/inshort-news?select=inshort_news_data-3.csv\n",
        "\n",
        "\n"
      ]
    },
    {
      "cell_type": "markdown",
      "metadata": {
        "id": "y1iaay3KCzSX"
      },
      "source": [
        "Di bawah ini merupakan perintah untuk import dataset dari Google Drive"
      ]
    },
    {
      "cell_type": "code",
      "metadata": {
        "colab": {
          "base_uri": "https://localhost:8080/"
        },
        "id": "08t19uvXCnpY",
        "outputId": "0d530b32-8d42-44e7-ce17-f6a68b25d3f1"
      },
      "source": [
        "from google.colab import drive\n",
        "drive.mount('/content/drive/')"
      ],
      "execution_count": 25,
      "outputs": [
        {
          "output_type": "stream",
          "name": "stdout",
          "text": [
            "Drive already mounted at /content/drive/; to attempt to forcibly remount, call drive.mount(\"/content/drive/\", force_remount=True).\n"
          ]
        }
      ]
    },
    {
      "cell_type": "markdown",
      "metadata": {
        "id": "yXrU7s_jDFFs"
      },
      "source": [
        "Import Library yang dibutuhkan"
      ]
    },
    {
      "cell_type": "code",
      "metadata": {
        "colab": {
          "base_uri": "https://localhost:8080/"
        },
        "id": "LMxR7W4DDDsb",
        "outputId": "fe9bb104-c119-49ef-8cdd-c4a3ef609aaa"
      },
      "source": [
        "# Import Library yang akan digunakan\n",
        "\n",
        "import pandas as pd\n",
        "import nltk, os, re, string\n",
        "import tensorflow as tf\n",
        "import seaborn as sns\n",
        "import matplotlib.pyplot as plt\n",
        "from tensorflow.keras.layers import Input, LSTM, Dropout, Dense, Embedding, Flatten\n",
        "from tensorflow.keras.models import Model\n",
        "from tensorflow.keras.callbacks import EarlyStopping\n",
        "from tensorflow.keras.preprocessing.text import Tokenizer\n",
        "from tensorflow.keras.preprocessing.sequence import pad_sequences\n",
        "from sklearn.model_selection import train_test_split\n",
        "from nltk.corpus import stopwords\n",
        "from nltk.stem import WordNetLemmatizer\n",
        "from nltk.corpus import wordnet as wn\n",
        "nltk.download('stopwords')"
      ],
      "execution_count": 26,
      "outputs": [
        {
          "output_type": "stream",
          "name": "stdout",
          "text": [
            "[nltk_data] Downloading package stopwords to /root/nltk_data...\n",
            "[nltk_data]   Package stopwords is already up-to-date!\n"
          ]
        },
        {
          "output_type": "execute_result",
          "data": {
            "text/plain": [
              "True"
            ]
          },
          "metadata": {},
          "execution_count": 26
        }
      ]
    },
    {
      "cell_type": "markdown",
      "metadata": {
        "id": "kx4vfqFYDbQq"
      },
      "source": [
        "Import dataset yang akan digunakan. Dataset ini memiliki 3 kolom nama yaitu, news_headline, news_article, and news_category. Dataset ini juga mengandung 7 kategori berita yaitu technology,sports,politics,entertainment,world,automobile, dan science."
      ]
    },
    {
      "cell_type": "code",
      "metadata": {
        "colab": {
          "base_uri": "https://localhost:8080/",
          "height": 390
        },
        "id": "KcXxN608D0hf",
        "outputId": "b209c5c7-388f-42d1-e81f-faff66b4591e"
      },
      "source": [
        "dataframe = pd.read_csv('/content/drive/MyDrive/Colab Notebooks/dataset/inshort_news_data-2.csv')\n",
        "dataframe.head(11)"
      ],
      "execution_count": 27,
      "outputs": [
        {
          "output_type": "execute_result",
          "data": {
            "text/html": [
              "<div>\n",
              "<style scoped>\n",
              "    .dataframe tbody tr th:only-of-type {\n",
              "        vertical-align: middle;\n",
              "    }\n",
              "\n",
              "    .dataframe tbody tr th {\n",
              "        vertical-align: top;\n",
              "    }\n",
              "\n",
              "    .dataframe thead th {\n",
              "        text-align: right;\n",
              "    }\n",
              "</style>\n",
              "<table border=\"1\" class=\"dataframe\">\n",
              "  <thead>\n",
              "    <tr style=\"text-align: right;\">\n",
              "      <th></th>\n",
              "      <th>Unnamed: 0</th>\n",
              "      <th>news_headline</th>\n",
              "      <th>news_article</th>\n",
              "      <th>news_category</th>\n",
              "    </tr>\n",
              "  </thead>\n",
              "  <tbody>\n",
              "    <tr>\n",
              "      <th>0</th>\n",
              "      <td>0</td>\n",
              "      <td>Porn star jokes she could post nudes on Insta ...</td>\n",
              "      <td>Porn star Kendra Sunderland's Instagram accoun...</td>\n",
              "      <td>technology</td>\n",
              "    </tr>\n",
              "    <tr>\n",
              "      <th>1</th>\n",
              "      <td>1</td>\n",
              "      <td>Satellite pics show remains of SpaceX's rocket...</td>\n",
              "      <td>Satellite images showed the remains of Elon Mu...</td>\n",
              "      <td>technology</td>\n",
              "    </tr>\n",
              "    <tr>\n",
              "      <th>2</th>\n",
              "      <td>2</td>\n",
              "      <td>Not in favour of recommending such games: Top ...</td>\n",
              "      <td>National Commission for Protection of Child Ri...</td>\n",
              "      <td>technology</td>\n",
              "    </tr>\n",
              "    <tr>\n",
              "      <th>3</th>\n",
              "      <td>3</td>\n",
              "      <td>Researchers develop first AI tool to detect CO...</td>\n",
              "      <td>A team of researchers from the University of V...</td>\n",
              "      <td>technology</td>\n",
              "    </tr>\n",
              "    <tr>\n",
              "      <th>4</th>\n",
              "      <td>4</td>\n",
              "      <td>Virgin Galactic's test space flight cut short ...</td>\n",
              "      <td>Richard Branson's space tourism company Virgin...</td>\n",
              "      <td>technology</td>\n",
              "    </tr>\n",
              "    <tr>\n",
              "      <th>5</th>\n",
              "      <td>5</td>\n",
              "      <td>Apple shuts Music Memos app, asks users to exp...</td>\n",
              "      <td>Apple has announced that it's discontinuing it...</td>\n",
              "      <td>technology</td>\n",
              "    </tr>\n",
              "    <tr>\n",
              "      <th>6</th>\n",
              "      <td>6</td>\n",
              "      <td>28% Indians hide real identities on social med...</td>\n",
              "      <td>Global cybersecurity firm Kaspersky in its rep...</td>\n",
              "      <td>technology</td>\n",
              "    </tr>\n",
              "    <tr>\n",
              "      <th>7</th>\n",
              "      <td>7</td>\n",
              "      <td>Malware campaign adding extensions in Chrome, ...</td>\n",
              "      <td>Google Chrome, Firefox and other browsers are ...</td>\n",
              "      <td>technology</td>\n",
              "    </tr>\n",
              "    <tr>\n",
              "      <th>8</th>\n",
              "      <td>8</td>\n",
              "      <td>Zoom Founder Eric Yuan named TIME's 2020 Busin...</td>\n",
              "      <td>Zoom Founder Eric Yuan has been named TIME's 2...</td>\n",
              "      <td>technology</td>\n",
              "    </tr>\n",
              "    <tr>\n",
              "      <th>9</th>\n",
              "      <td>9</td>\n",
              "      <td>Twitter acquires screen-sharing social app Squad</td>\n",
              "      <td>Twitter has acquired the screen-sharing social...</td>\n",
              "      <td>technology</td>\n",
              "    </tr>\n",
              "    <tr>\n",
              "      <th>10</th>\n",
              "      <td>10</td>\n",
              "      <td>Twitter launches feature to let iOS users shar...</td>\n",
              "      <td>Twitter has launched a new feature on its mobi...</td>\n",
              "      <td>technology</td>\n",
              "    </tr>\n",
              "  </tbody>\n",
              "</table>\n",
              "</div>"
            ],
            "text/plain": [
              "    Unnamed: 0  ... news_category\n",
              "0            0  ...    technology\n",
              "1            1  ...    technology\n",
              "2            2  ...    technology\n",
              "3            3  ...    technology\n",
              "4            4  ...    technology\n",
              "5            5  ...    technology\n",
              "6            6  ...    technology\n",
              "7            7  ...    technology\n",
              "8            8  ...    technology\n",
              "9            9  ...    technology\n",
              "10          10  ...    technology\n",
              "\n",
              "[11 rows x 4 columns]"
            ]
          },
          "metadata": {},
          "execution_count": 27
        }
      ]
    },
    {
      "cell_type": "code",
      "metadata": {
        "colab": {
          "base_uri": "https://localhost:8080/"
        },
        "id": "lfFPY1DvEFnm",
        "outputId": "4c1f2c5c-2add-437c-bc19-2e459b08bd78"
      },
      "source": [
        "dataframe.news_category.value_counts()"
      ],
      "execution_count": 28,
      "outputs": [
        {
          "output_type": "execute_result",
          "data": {
            "text/plain": [
              "science          225\n",
              "sports           225\n",
              "technology       225\n",
              "politics         225\n",
              "world            223\n",
              "entertainment    222\n",
              "automobile       218\n",
              "Name: news_category, dtype: int64"
            ]
          },
          "metadata": {},
          "execution_count": 28
        }
      ]
    },
    {
      "cell_type": "code",
      "metadata": {
        "colab": {
          "base_uri": "https://localhost:8080/",
          "height": 390
        },
        "id": "8Ms7XUOT-_NU",
        "outputId": "7031b0e7-5ace-420e-865e-79def4fa6427"
      },
      "source": [
        "dataframe = pd.read_csv('/content/drive/MyDrive/Colab Notebooks/dataset/inshort_news_data-3.csv')\n",
        "dataframe.head(11)"
      ],
      "execution_count": 29,
      "outputs": [
        {
          "output_type": "execute_result",
          "data": {
            "text/html": [
              "<div>\n",
              "<style scoped>\n",
              "    .dataframe tbody tr th:only-of-type {\n",
              "        vertical-align: middle;\n",
              "    }\n",
              "\n",
              "    .dataframe tbody tr th {\n",
              "        vertical-align: top;\n",
              "    }\n",
              "\n",
              "    .dataframe thead th {\n",
              "        text-align: right;\n",
              "    }\n",
              "</style>\n",
              "<table border=\"1\" class=\"dataframe\">\n",
              "  <thead>\n",
              "    <tr style=\"text-align: right;\">\n",
              "      <th></th>\n",
              "      <th>Unnamed: 0</th>\n",
              "      <th>news_headline</th>\n",
              "      <th>news_article</th>\n",
              "      <th>news_category</th>\n",
              "    </tr>\n",
              "  </thead>\n",
              "  <tbody>\n",
              "    <tr>\n",
              "      <th>0</th>\n",
              "      <td>0</td>\n",
              "      <td>Ronaldo becomes first person to reach 25 crore...</td>\n",
              "      <td>Juventus star forward Cristiano Ronaldo has be...</td>\n",
              "      <td>technology</td>\n",
              "    </tr>\n",
              "    <tr>\n",
              "      <th>1</th>\n",
              "      <td>1</td>\n",
              "      <td>Julian Assange can't be extradited to US due t...</td>\n",
              "      <td>A British judge on Monday rejected the US' req...</td>\n",
              "      <td>technology</td>\n",
              "    </tr>\n",
              "    <tr>\n",
              "      <th>2</th>\n",
              "      <td>2</td>\n",
              "      <td>When did billionaire Jack Ma criticise Chinese...</td>\n",
              "      <td>Billionaire Jack Ma criticised Chinese regulat...</td>\n",
              "      <td>technology</td>\n",
              "    </tr>\n",
              "    <tr>\n",
              "      <th>3</th>\n",
              "      <td>3</td>\n",
              "      <td>Jack Ma suspected to be missing for 2 months a...</td>\n",
              "      <td>Chinese billionaire and Alibaba Co-Founder Jac...</td>\n",
              "      <td>technology</td>\n",
              "    </tr>\n",
              "    <tr>\n",
              "      <th>4</th>\n",
              "      <td>4</td>\n",
              "      <td>Slack down for many users worldwide, messages ...</td>\n",
              "      <td>Several Slack users from across the world repo...</td>\n",
              "      <td>technology</td>\n",
              "    </tr>\n",
              "    <tr>\n",
              "      <th>5</th>\n",
              "      <td>5</td>\n",
              "      <td>S'pore police to be able to access contact tra...</td>\n",
              "      <td>Singapore police will be able to use data obta...</td>\n",
              "      <td>technology</td>\n",
              "    </tr>\n",
              "    <tr>\n",
              "      <th>6</th>\n",
              "      <td>6</td>\n",
              "      <td>Reliance to move Punjab and Haryana HC to stop...</td>\n",
              "      <td>Mukesh Ambani-led Reliance Industries Limited ...</td>\n",
              "      <td>technology</td>\n",
              "    </tr>\n",
              "    <tr>\n",
              "      <th>7</th>\n",
              "      <td>7</td>\n",
              "      <td>PHDCCI welcomes BSNL's move to allow indigenou...</td>\n",
              "      <td>The PHD Chamber of Commerce and Industry (PHDC...</td>\n",
              "      <td>technology</td>\n",
              "    </tr>\n",
              "    <tr>\n",
              "      <th>8</th>\n",
              "      <td>8</td>\n",
              "      <td>US' Massachusetts to require all new cars sold...</td>\n",
              "      <td>The US State of Massachusetts has mandated all...</td>\n",
              "      <td>technology</td>\n",
              "    </tr>\n",
              "    <tr>\n",
              "      <th>9</th>\n",
              "      <td>9</td>\n",
              "      <td>Chinese e-comm firm faces labour probe after e...</td>\n",
              "      <td>Chinese e-commerce platform Pinduoduo is facin...</td>\n",
              "      <td>technology</td>\n",
              "    </tr>\n",
              "    <tr>\n",
              "      <th>10</th>\n",
              "      <td>10</td>\n",
              "      <td>Mexico offers Assange asylum after UK blocks U...</td>\n",
              "      <td>Mexican President Andrés Manuel López Obrador ...</td>\n",
              "      <td>technology</td>\n",
              "    </tr>\n",
              "  </tbody>\n",
              "</table>\n",
              "</div>"
            ],
            "text/plain": [
              "    Unnamed: 0  ... news_category\n",
              "0            0  ...    technology\n",
              "1            1  ...    technology\n",
              "2            2  ...    technology\n",
              "3            3  ...    technology\n",
              "4            4  ...    technology\n",
              "5            5  ...    technology\n",
              "6            6  ...    technology\n",
              "7            7  ...    technology\n",
              "8            8  ...    technology\n",
              "9            9  ...    technology\n",
              "10          10  ...    technology\n",
              "\n",
              "[11 rows x 4 columns]"
            ]
          },
          "metadata": {},
          "execution_count": 29
        }
      ]
    },
    {
      "cell_type": "code",
      "metadata": {
        "colab": {
          "base_uri": "https://localhost:8080/"
        },
        "id": "N6SbMEtR_GmM",
        "outputId": "7f0e5f52-be84-42ef-9c73-6155a6c800fd"
      },
      "source": [
        "dataframe.news_category.value_counts()"
      ],
      "execution_count": 30,
      "outputs": [
        {
          "output_type": "execute_result",
          "data": {
            "text/plain": [
              "world            225\n",
              "politics         225\n",
              "technology       224\n",
              "science          223\n",
              "sports           223\n",
              "entertainment    220\n",
              "automobile       220\n",
              "Name: news_category, dtype: int64"
            ]
          },
          "metadata": {},
          "execution_count": 30
        }
      ]
    },
    {
      "cell_type": "markdown",
      "metadata": {
        "id": "DgvKwrwrEN0h"
      },
      "source": [
        "Melalui hasil count data diatas, jumlah data antar kategorinya berbeda, perbedaan data ini akan mempengaruhi hasil klasifikasi, karena datanya tidak balance. Oleh karena itu, saya melakukan drop data secara manual dan menjadikan jumlah data antar kategori bernilai sama. Jumlah data antar kategori yaitu 430 berita. Berikut data yang sudah saya perbaharui. Sehingga total jumlah data yaitu 3.010 data."
      ]
    },
    {
      "cell_type": "code",
      "metadata": {
        "colab": {
          "base_uri": "https://localhost:8080/",
          "height": 390
        },
        "id": "Ld7FS_IaDVT2",
        "outputId": "5c68368c-6cb4-4820-db13-e7d24456194d"
      },
      "source": [
        "dataframe = pd.read_csv('/content/drive/MyDrive/Colab Notebooks/dataset/databarunlp.csv')\n",
        "dataframe.head(11)"
      ],
      "execution_count": 31,
      "outputs": [
        {
          "output_type": "execute_result",
          "data": {
            "text/html": [
              "<div>\n",
              "<style scoped>\n",
              "    .dataframe tbody tr th:only-of-type {\n",
              "        vertical-align: middle;\n",
              "    }\n",
              "\n",
              "    .dataframe tbody tr th {\n",
              "        vertical-align: top;\n",
              "    }\n",
              "\n",
              "    .dataframe thead th {\n",
              "        text-align: right;\n",
              "    }\n",
              "</style>\n",
              "<table border=\"1\" class=\"dataframe\">\n",
              "  <thead>\n",
              "    <tr style=\"text-align: right;\">\n",
              "      <th></th>\n",
              "      <th>Unnamed: 0</th>\n",
              "      <th>news_headline</th>\n",
              "      <th>news_article</th>\n",
              "      <th>news_category</th>\n",
              "    </tr>\n",
              "  </thead>\n",
              "  <tbody>\n",
              "    <tr>\n",
              "      <th>0</th>\n",
              "      <td>0</td>\n",
              "      <td>K'taka govt won't ask IT firms to open offices...</td>\n",
              "      <td>Karnataka Deputy CM CN Ashwathnarayan said the...</td>\n",
              "      <td>technology</td>\n",
              "    </tr>\n",
              "    <tr>\n",
              "      <th>1</th>\n",
              "      <td>1</td>\n",
              "      <td>Hyundai to buy 80% stake in SoftBank's robot m...</td>\n",
              "      <td>Hyundai Motor will buy an 80% stake in Boston ...</td>\n",
              "      <td>technology</td>\n",
              "    </tr>\n",
              "    <tr>\n",
              "      <th>2</th>\n",
              "      <td>2</td>\n",
              "      <td>Facebook traces 'OceanLotus' hackers to IT fir...</td>\n",
              "      <td>Facebook has traced hacking group 'OceanLotus'...</td>\n",
              "      <td>technology</td>\n",
              "    </tr>\n",
              "    <tr>\n",
              "      <th>3</th>\n",
              "      <td>3</td>\n",
              "      <td>Lawsuit against Trump's social media executive...</td>\n",
              "      <td>The lawsuit filed by the CDT group asking to d...</td>\n",
              "      <td>technology</td>\n",
              "    </tr>\n",
              "    <tr>\n",
              "      <th>4</th>\n",
              "      <td>4</td>\n",
              "      <td>Most Apple employees won't return to office un...</td>\n",
              "      <td>Apple CEO Tim Cook in a virtual meeting with e...</td>\n",
              "      <td>technology</td>\n",
              "    </tr>\n",
              "    <tr>\n",
              "      <th>5</th>\n",
              "      <td>5</td>\n",
              "      <td>Oracle moves headquarters from Silicon Valley ...</td>\n",
              "      <td>Oracle has moved its headquarters from Silicon...</td>\n",
              "      <td>technology</td>\n",
              "    </tr>\n",
              "    <tr>\n",
              "      <th>6</th>\n",
              "      <td>6</td>\n",
              "      <td>Apple sued by app store Cydia over alleged App...</td>\n",
              "      <td>Apple has been sued in the US by Cydia, an app...</td>\n",
              "      <td>technology</td>\n",
              "    </tr>\n",
              "    <tr>\n",
              "      <th>7</th>\n",
              "      <td>7</td>\n",
              "      <td>ED arrests Gujarat cryptocurrency trader in ₹1...</td>\n",
              "      <td>The Enforcement Directorate (ED) on Friday arr...</td>\n",
              "      <td>technology</td>\n",
              "    </tr>\n",
              "    <tr>\n",
              "      <th>8</th>\n",
              "      <td>8</td>\n",
              "      <td>Apple building its own cellular modem for futu...</td>\n",
              "      <td>Apple SVP of Hardware Technology Johny Srouji ...</td>\n",
              "      <td>technology</td>\n",
              "    </tr>\n",
              "    <tr>\n",
              "      <th>9</th>\n",
              "      <td>9</td>\n",
              "      <td>Staff doesn't need to be vaccinated before ret...</td>\n",
              "      <td>Facebook CEO Mark Zuckerberg told employees du...</td>\n",
              "      <td>technology</td>\n",
              "    </tr>\n",
              "    <tr>\n",
              "      <th>10</th>\n",
              "      <td>10</td>\n",
              "      <td>Aus much better Test team than it was 2 yrs ag...</td>\n",
              "      <td>Ex-England captain Michael Vaughan has said Au...</td>\n",
              "      <td>sports</td>\n",
              "    </tr>\n",
              "  </tbody>\n",
              "</table>\n",
              "</div>"
            ],
            "text/plain": [
              "    Unnamed: 0  ... news_category\n",
              "0            0  ...    technology\n",
              "1            1  ...    technology\n",
              "2            2  ...    technology\n",
              "3            3  ...    technology\n",
              "4            4  ...    technology\n",
              "5            5  ...    technology\n",
              "6            6  ...    technology\n",
              "7            7  ...    technology\n",
              "8            8  ...    technology\n",
              "9            9  ...    technology\n",
              "10          10  ...        sports\n",
              "\n",
              "[11 rows x 4 columns]"
            ]
          },
          "metadata": {},
          "execution_count": 31
        }
      ]
    },
    {
      "cell_type": "code",
      "metadata": {
        "colab": {
          "base_uri": "https://localhost:8080/"
        },
        "id": "U1ETYLQ-Ep_H",
        "outputId": "c3b3944e-5ed8-4b31-ca1f-f394b8fdd2da"
      },
      "source": [
        "#menghitung jumlah data yang terbaru\n",
        "\n",
        "dataframe.news_category.value_counts()"
      ],
      "execution_count": 32,
      "outputs": [
        {
          "output_type": "execute_result",
          "data": {
            "text/plain": [
              "science          430\n",
              "world            430\n",
              "sports           430\n",
              "entertainment    430\n",
              "automobile       430\n",
              "technology       430\n",
              "politics         430\n",
              "Name: news_category, dtype: int64"
            ]
          },
          "metadata": {},
          "execution_count": 32
        }
      ]
    },
    {
      "cell_type": "markdown",
      "metadata": {
        "id": "J--ZpSw2E82i"
      },
      "source": [
        "Di bawah ini merupakan perintah untuk menghapus kolom yang tidak digunakan."
      ]
    },
    {
      "cell_type": "code",
      "metadata": {
        "colab": {
          "base_uri": "https://localhost:8080/",
          "height": 390
        },
        "id": "JvnBN17KE5ey",
        "outputId": "be726ce4-fb0b-48c7-90f2-cbaa5cf17632"
      },
      "source": [
        "dataframe = dataframe.drop(columns = ['Unnamed: 0'])\n",
        "dataframe.head(11)"
      ],
      "execution_count": 33,
      "outputs": [
        {
          "output_type": "execute_result",
          "data": {
            "text/html": [
              "<div>\n",
              "<style scoped>\n",
              "    .dataframe tbody tr th:only-of-type {\n",
              "        vertical-align: middle;\n",
              "    }\n",
              "\n",
              "    .dataframe tbody tr th {\n",
              "        vertical-align: top;\n",
              "    }\n",
              "\n",
              "    .dataframe thead th {\n",
              "        text-align: right;\n",
              "    }\n",
              "</style>\n",
              "<table border=\"1\" class=\"dataframe\">\n",
              "  <thead>\n",
              "    <tr style=\"text-align: right;\">\n",
              "      <th></th>\n",
              "      <th>news_headline</th>\n",
              "      <th>news_article</th>\n",
              "      <th>news_category</th>\n",
              "    </tr>\n",
              "  </thead>\n",
              "  <tbody>\n",
              "    <tr>\n",
              "      <th>0</th>\n",
              "      <td>K'taka govt won't ask IT firms to open offices...</td>\n",
              "      <td>Karnataka Deputy CM CN Ashwathnarayan said the...</td>\n",
              "      <td>technology</td>\n",
              "    </tr>\n",
              "    <tr>\n",
              "      <th>1</th>\n",
              "      <td>Hyundai to buy 80% stake in SoftBank's robot m...</td>\n",
              "      <td>Hyundai Motor will buy an 80% stake in Boston ...</td>\n",
              "      <td>technology</td>\n",
              "    </tr>\n",
              "    <tr>\n",
              "      <th>2</th>\n",
              "      <td>Facebook traces 'OceanLotus' hackers to IT fir...</td>\n",
              "      <td>Facebook has traced hacking group 'OceanLotus'...</td>\n",
              "      <td>technology</td>\n",
              "    </tr>\n",
              "    <tr>\n",
              "      <th>3</th>\n",
              "      <td>Lawsuit against Trump's social media executive...</td>\n",
              "      <td>The lawsuit filed by the CDT group asking to d...</td>\n",
              "      <td>technology</td>\n",
              "    </tr>\n",
              "    <tr>\n",
              "      <th>4</th>\n",
              "      <td>Most Apple employees won't return to office un...</td>\n",
              "      <td>Apple CEO Tim Cook in a virtual meeting with e...</td>\n",
              "      <td>technology</td>\n",
              "    </tr>\n",
              "    <tr>\n",
              "      <th>5</th>\n",
              "      <td>Oracle moves headquarters from Silicon Valley ...</td>\n",
              "      <td>Oracle has moved its headquarters from Silicon...</td>\n",
              "      <td>technology</td>\n",
              "    </tr>\n",
              "    <tr>\n",
              "      <th>6</th>\n",
              "      <td>Apple sued by app store Cydia over alleged App...</td>\n",
              "      <td>Apple has been sued in the US by Cydia, an app...</td>\n",
              "      <td>technology</td>\n",
              "    </tr>\n",
              "    <tr>\n",
              "      <th>7</th>\n",
              "      <td>ED arrests Gujarat cryptocurrency trader in ₹1...</td>\n",
              "      <td>The Enforcement Directorate (ED) on Friday arr...</td>\n",
              "      <td>technology</td>\n",
              "    </tr>\n",
              "    <tr>\n",
              "      <th>8</th>\n",
              "      <td>Apple building its own cellular modem for futu...</td>\n",
              "      <td>Apple SVP of Hardware Technology Johny Srouji ...</td>\n",
              "      <td>technology</td>\n",
              "    </tr>\n",
              "    <tr>\n",
              "      <th>9</th>\n",
              "      <td>Staff doesn't need to be vaccinated before ret...</td>\n",
              "      <td>Facebook CEO Mark Zuckerberg told employees du...</td>\n",
              "      <td>technology</td>\n",
              "    </tr>\n",
              "    <tr>\n",
              "      <th>10</th>\n",
              "      <td>Aus much better Test team than it was 2 yrs ag...</td>\n",
              "      <td>Ex-England captain Michael Vaughan has said Au...</td>\n",
              "      <td>sports</td>\n",
              "    </tr>\n",
              "  </tbody>\n",
              "</table>\n",
              "</div>"
            ],
            "text/plain": [
              "                                        news_headline  ... news_category\n",
              "0   K'taka govt won't ask IT firms to open offices...  ...    technology\n",
              "1   Hyundai to buy 80% stake in SoftBank's robot m...  ...    technology\n",
              "2   Facebook traces 'OceanLotus' hackers to IT fir...  ...    technology\n",
              "3   Lawsuit against Trump's social media executive...  ...    technology\n",
              "4   Most Apple employees won't return to office un...  ...    technology\n",
              "5   Oracle moves headquarters from Silicon Valley ...  ...    technology\n",
              "6   Apple sued by app store Cydia over alleged App...  ...    technology\n",
              "7   ED arrests Gujarat cryptocurrency trader in ₹1...  ...    technology\n",
              "8   Apple building its own cellular modem for futu...  ...    technology\n",
              "9   Staff doesn't need to be vaccinated before ret...  ...    technology\n",
              "10  Aus much better Test team than it was 2 yrs ag...  ...        sports\n",
              "\n",
              "[11 rows x 3 columns]"
            ]
          },
          "metadata": {},
          "execution_count": 33
        }
      ]
    },
    {
      "cell_type": "code",
      "metadata": {
        "colab": {
          "base_uri": "https://localhost:8080/"
        },
        "id": "E6D0__FvFMc-",
        "outputId": "d173c285-f572-44c5-d89a-e66a1d2fb37a"
      },
      "source": [
        "# Total data\n",
        "\n",
        "dataframe.shape"
      ],
      "execution_count": 34,
      "outputs": [
        {
          "output_type": "execute_result",
          "data": {
            "text/plain": [
              "(3010, 3)"
            ]
          },
          "metadata": {},
          "execution_count": 34
        }
      ]
    },
    {
      "cell_type": "markdown",
      "metadata": {
        "id": "uZHjGWheFEwB"
      },
      "source": [
        "Total data yang disajikan yaitu 3.010 data yang terdiri dari 3 kolom"
      ]
    },
    {
      "cell_type": "code",
      "metadata": {
        "colab": {
          "base_uri": "https://localhost:8080/",
          "height": 459
        },
        "id": "o8Hilxd8FVaj",
        "outputId": "e1828c67-032a-4438-8a69-440251618ebf"
      },
      "source": [
        "plt.figure(figsize = (12, 6))\n",
        "sns.countplot(dataframe.news_category)"
      ],
      "execution_count": 35,
      "outputs": [
        {
          "output_type": "stream",
          "name": "stderr",
          "text": [
            "/usr/local/lib/python3.7/dist-packages/seaborn/_decorators.py:43: FutureWarning: Pass the following variable as a keyword arg: x. From version 0.12, the only valid positional argument will be `data`, and passing other arguments without an explicit keyword will result in an error or misinterpretation.\n",
            "  FutureWarning\n"
          ]
        },
        {
          "output_type": "execute_result",
          "data": {
            "text/plain": [
              "<matplotlib.axes._subplots.AxesSubplot at 0x7f94f53799d0>"
            ]
          },
          "metadata": {},
          "execution_count": 35
        },
        {
          "output_type": "display_data",
          "data": {
            "image/png": "[encoded data removed]",
            "text/plain": [
              "<Figure size 864x432 with 1 Axes>"
            ]
          },
          "metadata": {
            "needs_background": "light"
          }
        }
      ]
    },
    {
      "cell_type": "markdown",
      "metadata": {
        "id": "xlApBf8EFbkE"
      },
      "source": [
        "Dapat kita lihat bahwa persebaran data memiliki nilai yang sama antar kategori berita, yaitu 430 data per kategori"
      ]
    },
    {
      "cell_type": "markdown",
      "metadata": {
        "id": "s8V2B3eoF3O4"
      },
      "source": [
        "# **2. Data Pre-Processing**"
      ]
    },
    {
      "cell_type": "markdown",
      "metadata": {
        "id": "qkz3xAWOIY-C"
      },
      "source": [
        "Tahap pre-processing atau praproses data merupakan proses untuk mempersiapkan data mentah sebelum dilakukan proses lain. Pada umumnya, praproses data dilakukan dengan cara mengeliminasi data yang tidak sesuai atau mengubah data menjadi bentuk yang lebih mudah diproses oleh sistem. Praproses sangat penting dalam klasifikasi data, terutama untuk media sosial yang sebagian besar berisi kata-kata atau kalimat yang tidak formal dan tidak terstruktur serta memiliki noise yang besar. Berikut merupakan tahap-tahap pre-processing data yang saya lakukan :"
      ]
    },
    {
      "cell_type": "markdown",
      "metadata": {
        "id": "NVoyrmb6IvDw"
      },
      "source": [
        "**Lowercasing**"
      ]
    },
    {
      "cell_type": "code",
      "metadata": {
        "id": "trFc6kBxFbQM"
      },
      "source": [
        "dataframe.news_headline = dataframe.news_headline.apply(lambda x: x.lower())\n",
        "dataframe.news_article = dataframe.news_article.apply(lambda x: x.lower())"
      ],
      "execution_count": 36,
      "outputs": []
    },
    {
      "cell_type": "markdown",
      "metadata": {
        "id": "wzJ8UeTaJVXI"
      },
      "source": [
        "**Data Cleansing**"
      ]
    },
    {
      "cell_type": "code",
      "metadata": {
        "id": "iKhxbMToJYeS"
      },
      "source": [
        "#menghapus tanda baca\n",
        "def cleaner(data):\n",
        "    return(data.translate(str.maketrans('','', string.punctuation)))\n",
        "    dataframe.news_headline = dataframe.news_headline.apply(lambda x: cleaner(x))\n",
        "    dataframe.news_article = dataframe.news_article.apply(lambda x: lem(x))\n",
        "\n",
        "#menghapus angka\n",
        "def rem_numbers(data):\n",
        "    return re.sub('[0-9]+','',data)\n",
        "    dataframe['news_headline'].apply(rem_numbers)\n",
        "    dataframe['news_article'].apply(rem_numbers)"
      ],
      "execution_count": 37,
      "outputs": []
    },
    {
      "cell_type": "markdown",
      "metadata": {
        "id": "uLtaOSTLJ76a"
      },
      "source": [
        "**Lemmatization**"
      ]
    },
    {
      "cell_type": "code",
      "metadata": {
        "id": "JQ6sB26Rwr3f"
      },
      "source": [
        "lemmatizer = WordNetLemmatizer()\n",
        "\n",
        "def lem(data):\n",
        "    pos_dict = {'N': wn.NOUN, 'V': wn.VERB, 'J': wn.ADJ, 'R': wn.ADV}\n",
        "    return(' '.join([lemmatizer.lemmatize(w,pos_dict.get(t, wn.NOUN)) for w,t in nltk.pos_tag(data.split())]))\n",
        "    dataframe.news_headline = dataframe.news_headline.apply(lambda x: lem(x))\n",
        "    dataframe.news_article = dataframe.news_article.apply(lambda x: lem(x))"
      ],
      "execution_count": 38,
      "outputs": []
    },
    {
      "cell_type": "markdown",
      "metadata": {
        "id": "pS3-l58gwxUB"
      },
      "source": [
        "**Stopword Removal**"
      ]
    },
    {
      "cell_type": "code",
      "metadata": {
        "id": "E0oBRNxMw5mG"
      },
      "source": [
        "stwrds = stopwords.words('english')\n",
        "def stopword(data):\n",
        "    return(' '.join([w for w in data.split() if w not in stwrds ]))\n",
        "    dataframe.news_headline = dataframe.news_headline.apply(lambda x: stopword(x))\n",
        "    dataframe.news_article = dataframe.news_article.apply(lambda x: lem(x))"
      ],
      "execution_count": 39,
      "outputs": []
    },
    {
      "cell_type": "code",
      "metadata": {
        "colab": {
          "base_uri": "https://localhost:8080/",
          "height": 390
        },
        "id": "vVIp7a2vw_aY",
        "outputId": "34572607-99a3-427a-b704-6d87d6c9108a"
      },
      "source": [
        "dataframe.head(11)"
      ],
      "execution_count": 40,
      "outputs": [
        {
          "output_type": "execute_result",
          "data": {
            "text/html": [
              "<div>\n",
              "<style scoped>\n",
              "    .dataframe tbody tr th:only-of-type {\n",
              "        vertical-align: middle;\n",
              "    }\n",
              "\n",
              "    .dataframe tbody tr th {\n",
              "        vertical-align: top;\n",
              "    }\n",
              "\n",
              "    .dataframe thead th {\n",
              "        text-align: right;\n",
              "    }\n",
              "</style>\n",
              "<table border=\"1\" class=\"dataframe\">\n",
              "  <thead>\n",
              "    <tr style=\"text-align: right;\">\n",
              "      <th></th>\n",
              "      <th>news_headline</th>\n",
              "      <th>news_article</th>\n",
              "      <th>news_category</th>\n",
              "    </tr>\n",
              "  </thead>\n",
              "  <tbody>\n",
              "    <tr>\n",
              "      <th>0</th>\n",
              "      <td>k'taka govt won't ask it firms to open offices...</td>\n",
              "      <td>karnataka deputy cm cn ashwathnarayan said the...</td>\n",
              "      <td>technology</td>\n",
              "    </tr>\n",
              "    <tr>\n",
              "      <th>1</th>\n",
              "      <td>hyundai to buy 80% stake in softbank's robot m...</td>\n",
              "      <td>hyundai motor will buy an 80% stake in boston ...</td>\n",
              "      <td>technology</td>\n",
              "    </tr>\n",
              "    <tr>\n",
              "      <th>2</th>\n",
              "      <td>facebook traces 'oceanlotus' hackers to it fir...</td>\n",
              "      <td>facebook has traced hacking group 'oceanlotus'...</td>\n",
              "      <td>technology</td>\n",
              "    </tr>\n",
              "    <tr>\n",
              "      <th>3</th>\n",
              "      <td>lawsuit against trump's social media executive...</td>\n",
              "      <td>the lawsuit filed by the cdt group asking to d...</td>\n",
              "      <td>technology</td>\n",
              "    </tr>\n",
              "    <tr>\n",
              "      <th>4</th>\n",
              "      <td>most apple employees won't return to office un...</td>\n",
              "      <td>apple ceo tim cook in a virtual meeting with e...</td>\n",
              "      <td>technology</td>\n",
              "    </tr>\n",
              "    <tr>\n",
              "      <th>5</th>\n",
              "      <td>oracle moves headquarters from silicon valley ...</td>\n",
              "      <td>oracle has moved its headquarters from silicon...</td>\n",
              "      <td>technology</td>\n",
              "    </tr>\n",
              "    <tr>\n",
              "      <th>6</th>\n",
              "      <td>apple sued by app store cydia over alleged app...</td>\n",
              "      <td>apple has been sued in the us by cydia, an app...</td>\n",
              "      <td>technology</td>\n",
              "    </tr>\n",
              "    <tr>\n",
              "      <th>7</th>\n",
              "      <td>ed arrests gujarat cryptocurrency trader in ₹1...</td>\n",
              "      <td>the enforcement directorate (ed) on friday arr...</td>\n",
              "      <td>technology</td>\n",
              "    </tr>\n",
              "    <tr>\n",
              "      <th>8</th>\n",
              "      <td>apple building its own cellular modem for futu...</td>\n",
              "      <td>apple svp of hardware technology johny srouji ...</td>\n",
              "      <td>technology</td>\n",
              "    </tr>\n",
              "    <tr>\n",
              "      <th>9</th>\n",
              "      <td>staff doesn't need to be vaccinated before ret...</td>\n",
              "      <td>facebook ceo mark zuckerberg told employees du...</td>\n",
              "      <td>technology</td>\n",
              "    </tr>\n",
              "    <tr>\n",
              "      <th>10</th>\n",
              "      <td>aus much better test team than it was 2 yrs ag...</td>\n",
              "      <td>ex-england captain michael vaughan has said au...</td>\n",
              "      <td>sports</td>\n",
              "    </tr>\n",
              "  </tbody>\n",
              "</table>\n",
              "</div>"
            ],
            "text/plain": [
              "                                        news_headline  ... news_category\n",
              "0   k'taka govt won't ask it firms to open offices...  ...    technology\n",
              "1   hyundai to buy 80% stake in softbank's robot m...  ...    technology\n",
              "2   facebook traces 'oceanlotus' hackers to it fir...  ...    technology\n",
              "3   lawsuit against trump's social media executive...  ...    technology\n",
              "4   most apple employees won't return to office un...  ...    technology\n",
              "5   oracle moves headquarters from silicon valley ...  ...    technology\n",
              "6   apple sued by app store cydia over alleged app...  ...    technology\n",
              "7   ed arrests gujarat cryptocurrency trader in ₹1...  ...    technology\n",
              "8   apple building its own cellular modem for futu...  ...    technology\n",
              "9   staff doesn't need to be vaccinated before ret...  ...    technology\n",
              "10  aus much better test team than it was 2 yrs ag...  ...        sports\n",
              "\n",
              "[11 rows x 3 columns]"
            ]
          },
          "metadata": {},
          "execution_count": 40
        }
      ]
    },
    {
      "cell_type": "markdown",
      "metadata": {
        "id": "qV5jYOJ7xEWm"
      },
      "source": [
        "Proses selanjutnya yaitu proses One-Hot Encoding. One-Hot Encoding adalah teknik yang merubah setiap nilai di dalam kolom menjadi kolom baru dan mengisinya dengan nilai biner yaitu 0 dan 1. Pada case ini saya menggunakan library dari pandas untuk melakukan proses ini."
      ]
    },
    {
      "cell_type": "code",
      "metadata": {
        "colab": {
          "base_uri": "https://localhost:8080/",
          "height": 204
        },
        "id": "G9Yrn-ewyQUG",
        "outputId": "5086265f-8efe-4912-bd73-62241a044a2b"
      },
      "source": [
        "category = pd.get_dummies(dataframe['news_category'])\n",
        "dataframe = pd.concat([dataframe, category], axis=1)\n",
        "dataframe = dataframe.drop('news_category', axis=1)\n",
        "dataframe.head()"
      ],
      "execution_count": 41,
      "outputs": [
        {
          "output_type": "execute_result",
          "data": {
            "text/html": [
              "<div>\n",
              "<style scoped>\n",
              "    .dataframe tbody tr th:only-of-type {\n",
              "        vertical-align: middle;\n",
              "    }\n",
              "\n",
              "    .dataframe tbody tr th {\n",
              "        vertical-align: top;\n",
              "    }\n",
              "\n",
              "    .dataframe thead th {\n",
              "        text-align: right;\n",
              "    }\n",
              "</style>\n",
              "<table border=\"1\" class=\"dataframe\">\n",
              "  <thead>\n",
              "    <tr style=\"text-align: right;\">\n",
              "      <th></th>\n",
              "      <th>news_headline</th>\n",
              "      <th>news_article</th>\n",
              "      <th>automobile</th>\n",
              "      <th>entertainment</th>\n",
              "      <th>politics</th>\n",
              "      <th>science</th>\n",
              "      <th>sports</th>\n",
              "      <th>technology</th>\n",
              "      <th>world</th>\n",
              "    </tr>\n",
              "  </thead>\n",
              "  <tbody>\n",
              "    <tr>\n",
              "      <th>0</th>\n",
              "      <td>k'taka govt won't ask it firms to open offices...</td>\n",
              "      <td>karnataka deputy cm cn ashwathnarayan said the...</td>\n",
              "      <td>0</td>\n",
              "      <td>0</td>\n",
              "      <td>0</td>\n",
              "      <td>0</td>\n",
              "      <td>0</td>\n",
              "      <td>1</td>\n",
              "      <td>0</td>\n",
              "    </tr>\n",
              "    <tr>\n",
              "      <th>1</th>\n",
              "      <td>hyundai to buy 80% stake in softbank's robot m...</td>\n",
              "      <td>hyundai motor will buy an 80% stake in boston ...</td>\n",
              "      <td>0</td>\n",
              "      <td>0</td>\n",
              "      <td>0</td>\n",
              "      <td>0</td>\n",
              "      <td>0</td>\n",
              "      <td>1</td>\n",
              "      <td>0</td>\n",
              "    </tr>\n",
              "    <tr>\n",
              "      <th>2</th>\n",
              "      <td>facebook traces 'oceanlotus' hackers to it fir...</td>\n",
              "      <td>facebook has traced hacking group 'oceanlotus'...</td>\n",
              "      <td>0</td>\n",
              "      <td>0</td>\n",
              "      <td>0</td>\n",
              "      <td>0</td>\n",
              "      <td>0</td>\n",
              "      <td>1</td>\n",
              "      <td>0</td>\n",
              "    </tr>\n",
              "    <tr>\n",
              "      <th>3</th>\n",
              "      <td>lawsuit against trump's social media executive...</td>\n",
              "      <td>the lawsuit filed by the cdt group asking to d...</td>\n",
              "      <td>0</td>\n",
              "      <td>0</td>\n",
              "      <td>0</td>\n",
              "      <td>0</td>\n",
              "      <td>0</td>\n",
              "      <td>1</td>\n",
              "      <td>0</td>\n",
              "    </tr>\n",
              "    <tr>\n",
              "      <th>4</th>\n",
              "      <td>most apple employees won't return to office un...</td>\n",
              "      <td>apple ceo tim cook in a virtual meeting with e...</td>\n",
              "      <td>0</td>\n",
              "      <td>0</td>\n",
              "      <td>0</td>\n",
              "      <td>0</td>\n",
              "      <td>0</td>\n",
              "      <td>1</td>\n",
              "      <td>0</td>\n",
              "    </tr>\n",
              "  </tbody>\n",
              "</table>\n",
              "</div>"
            ],
            "text/plain": [
              "                                       news_headline  ... world\n",
              "0  k'taka govt won't ask it firms to open offices...  ...     0\n",
              "1  hyundai to buy 80% stake in softbank's robot m...  ...     0\n",
              "2  facebook traces 'oceanlotus' hackers to it fir...  ...     0\n",
              "3  lawsuit against trump's social media executive...  ...     0\n",
              "4  most apple employees won't return to office un...  ...     0\n",
              "\n",
              "[5 rows x 9 columns]"
            ]
          },
          "metadata": {},
          "execution_count": 41
        }
      ]
    },
    {
      "cell_type": "markdown",
      "metadata": {
        "id": "hglY8UiYxN1L"
      },
      "source": [
        "Selanjutnya saya mengubah dataframe tersebut ke dalam Numpy Array, hal ini dilakukan agar data dapat diproses saat membangun model LSTM."
      ]
    },
    {
      "cell_type": "code",
      "metadata": {
        "colab": {
          "base_uri": "https://localhost:8080/"
        },
        "id": "72yC5XImy6fh",
        "outputId": "b31d0a94-7bb4-4583-807a-8bc21125a377"
      },
      "source": [
        "X = dataframe['news_headline'].values + '' + dataframe['news_article'].values\n",
        "y = dataframe[['automobile', 'entertainment', 'politics', 'science', 'sports', 'technology', 'world']].values\n",
        "\n",
        "y"
      ],
      "execution_count": 42,
      "outputs": [
        {
          "output_type": "execute_result",
          "data": {
            "text/plain": [
              "array([[0, 0, 0, ..., 0, 1, 0],\n",
              "       [0, 0, 0, ..., 0, 1, 0],\n",
              "       [0, 0, 0, ..., 0, 1, 0],\n",
              "       ...,\n",
              "       [0, 0, 0, ..., 0, 0, 0],\n",
              "       [0, 0, 0, ..., 0, 0, 0],\n",
              "       [0, 0, 0, ..., 0, 0, 0]], dtype=uint8)"
            ]
          },
          "metadata": {},
          "execution_count": 42
        }
      ]
    },
    {
      "cell_type": "markdown",
      "metadata": {
        "id": "OxLlZflCz3M8"
      },
      "source": [
        "Proses selanjutnya yaitu melakukan split data, yaitu 20% untuk validation dataset."
      ]
    },
    {
      "cell_type": "code",
      "metadata": {
        "id": "zkiz0Fmy0JqI"
      },
      "source": [
        "X_train, X_test, y_train, y_test = train_test_split(X, y, test_size=0.2, random_state=42)"
      ],
      "execution_count": 43,
      "outputs": []
    },
    {
      "cell_type": "code",
      "metadata": {
        "colab": {
          "base_uri": "https://localhost:8080/"
        },
        "id": "ITSqZ7gc0Qt7",
        "outputId": "dc5c44d3-eaeb-4130-fa46-890897e46114"
      },
      "source": [
        "print(y_train.shape)\n",
        "print(y_test.shape)"
      ],
      "execution_count": 44,
      "outputs": [
        {
          "output_type": "stream",
          "name": "stdout",
          "text": [
            "(2408, 7)\n",
            "(602, 7)\n"
          ]
        }
      ]
    },
    {
      "cell_type": "markdown",
      "metadata": {
        "id": "VLvYHibJ0UkA"
      },
      "source": [
        "Dapat dilihat dari hasil diatas, validation dataset sudah 20% dari total data, yaitu 602 data dengan 7 kategori berita."
      ]
    },
    {
      "cell_type": "markdown",
      "metadata": {
        "id": "4G8TTcRB0f3b"
      },
      "source": [
        "**Tokenizing**"
      ]
    },
    {
      "cell_type": "markdown",
      "metadata": {
        "id": "dO3d6VLd0p1E"
      },
      "source": [
        "Tokenizing adalah operasi memisahkan teks menjadi potongan-potongan berupa token, bisa berupa potongan huruf, kata, atau kalimat, sebelum dianalisis lebih lanjut."
      ]
    },
    {
      "cell_type": "code",
      "metadata": {
        "id": "MC2_6fQD0rtu"
      },
      "source": [
        "tokenizer = Tokenizer(num_words=10000, oov_token='n')\n",
        "\n",
        "tokenizer.fit_on_texts(X_train)\n",
        "tokenizer.fit_on_texts(X_test)\n",
        "\n",
        "sequence_train = tokenizer.texts_to_sequences(X_train)\n",
        "sequence_test = tokenizer.texts_to_sequences(X_test)\n",
        "padded_train = pad_sequences(sequence_train)\n",
        "padded_test = pad_sequences(sequence_test)"
      ],
      "execution_count": 45,
      "outputs": []
    },
    {
      "cell_type": "markdown",
      "metadata": {
        "id": "mXVfqYXZ0wcD"
      },
      "source": [
        "# **3. Fungsi Callbacks**"
      ]
    },
    {
      "cell_type": "markdown",
      "metadata": {
        "id": "4LmBoHC30zQD"
      },
      "source": [
        "Inisialisasi Fungsi Callbacks yang digunakan untuk menghentikan training data ketika akurasi mencapai diatas 97% dan validation set sudah mencapai diatas 90%."
      ]
    },
    {
      "cell_type": "code",
      "metadata": {
        "id": "D78JpHep1Je3"
      },
      "source": [
        "class myCallback(tf.keras.callbacks.Callback):\n",
        "  def on_epoch_end(self, epoch, logs={}):\n",
        "    if(logs.get('accuracy')>0.97 and logs.get('val_accuracy')>0.90):\n",
        "      self.model.stop_training = True\n",
        "      print(\"\\nAkurasi training set sudah mencapai > 97% dan validation set sudah mencapai > 90%, hentikan proses training!\")\n",
        "callbacks = myCallback()"
      ],
      "execution_count": 51,
      "outputs": []
    },
    {
      "cell_type": "markdown",
      "metadata": {
        "id": "S5gi-IQ21gNd"
      },
      "source": [
        "# **4. Model LSTM**"
      ]
    },
    {
      "cell_type": "markdown",
      "metadata": {
        "id": "Us1mPu7g1sIs"
      },
      "source": [
        "LSTM merupakan salah satu jenis dari Recurrent Neural Network (RNN) dimana dilakukan modifikasi pada RNN dengan menambahkan memory cell yang dapat menyimpan informasi untuk jangka waktu yang lama. LSTM diusulkan sebagai solusi untuk mengatasi terjadinya vanishing gradient pada RNN saat memproses data sequential yang panjang."
      ]
    },
    {
      "cell_type": "markdown",
      "metadata": {
        "id": "NpBerH-B2toG"
      },
      "source": [
        "Membuat model sequential dan melakukan compile model dengan Adam optimizer dan loss function categorical-crossentropy (hasil klasifikasi lebih dari dua klasifikasi)"
      ]
    },
    {
      "cell_type": "code",
      "metadata": {
        "colab": {
          "base_uri": "https://localhost:8080/"
        },
        "id": "Btc2mdel1eDP",
        "outputId": "7d70610d-2707-4bb7-c5bd-a978ac7ca2a2"
      },
      "source": [
        "model = tf.keras.Sequential([\n",
        "          Embedding(input_dim=10000, output_dim=128),\n",
        "          LSTM(128),\n",
        "          Flatten(),\n",
        "          Dropout(0.5),\n",
        "          Dense(128, activation='relu'),\n",
        "          Dense(64, activation='relu'),\n",
        "          Dense(7, activation='softmax')\n",
        "])\n",
        "\n",
        "model.compile(optimizer='adam', \n",
        "              loss='categorical_crossentropy', \n",
        "              metrics=['accuracy'])\n",
        "\n",
        "model.summary()"
      ],
      "execution_count": 52,
      "outputs": [
        {
          "output_type": "stream",
          "name": "stdout",
          "text": [
            "Model: \"sequential_2\"\n",
            "_________________________________________________________________\n",
            "Layer (type)                 Output Shape              Param #   \n",
            "=================================================================\n",
            "embedding_2 (Embedding)      (None, None, 128)         1280000   \n",
            "_________________________________________________________________\n",
            "lstm_2 (LSTM)                (None, 128)               131584    \n",
            "_________________________________________________________________\n",
            "flatten_2 (Flatten)          (None, 128)               0         \n",
            "_________________________________________________________________\n",
            "dropout_2 (Dropout)          (None, 128)               0         \n",
            "_________________________________________________________________\n",
            "dense_6 (Dense)              (None, 128)               16512     \n",
            "_________________________________________________________________\n",
            "dense_7 (Dense)              (None, 64)                8256      \n",
            "_________________________________________________________________\n",
            "dense_8 (Dense)              (None, 7)                 455       \n",
            "=================================================================\n",
            "Total params: 1,436,807\n",
            "Trainable params: 1,436,807\n",
            "Non-trainable params: 0\n",
            "_________________________________________________________________\n"
          ]
        }
      ]
    },
    {
      "cell_type": "markdown",
      "metadata": {
        "id": "t0H_Gp_E3Bva"
      },
      "source": [
        "Eksekusi LSTM Model"
      ]
    },
    {
      "cell_type": "code",
      "metadata": {
        "colab": {
          "base_uri": "https://localhost:8080/"
        },
        "id": "0jh35lGB2l1s",
        "outputId": "e2e3f201-ec9a-4b34-e59a-5263f2125d9f"
      },
      "source": [
        "import math\n",
        "\n",
        "batch_size=64\n",
        "train_size=2408\n",
        "validation_size=602\n",
        "\n",
        "#menghitung nilai step per epoch dan val step\n",
        "compute_steps_per_epoch = lambda x: int(math.ceil(1. * x / batch_size))\n",
        "steps_per_epoch = compute_steps_per_epoch(train_size)\n",
        "val_steps = compute_steps_per_epoch(validation_size)\n",
        "\n",
        "nlp_model = model.fit(\n",
        "    padded_train,\n",
        "    y_train,\n",
        "    epochs=15,\n",
        "    steps_per_epoch=steps_per_epoch,\n",
        "    validation_steps=val_steps,\n",
        "    validation_data=(padded_test, y_test),\n",
        "    verbose=1, \n",
        "    callbacks=[callbacks])"
      ],
      "execution_count": 53,
      "outputs": [
        {
          "output_type": "stream",
          "name": "stdout",
          "text": [
            "Epoch 1/15\n",
            "38/38 [==============================] - 12s 254ms/step - loss: 1.9126 - accuracy: 0.2085 - val_loss: 1.6936 - val_accuracy: 0.2259\n",
            "Epoch 2/15\n",
            "38/38 [==============================] - 9s 234ms/step - loss: 1.4068 - accuracy: 0.3588 - val_loss: 1.1271 - val_accuracy: 0.4867\n",
            "Epoch 3/15\n",
            "38/38 [==============================] - 9s 239ms/step - loss: 0.8352 - accuracy: 0.5918 - val_loss: 0.7579 - val_accuracy: 0.6711\n",
            "Epoch 4/15\n",
            "38/38 [==============================] - 9s 233ms/step - loss: 0.5880 - accuracy: 0.7438 - val_loss: 0.6588 - val_accuracy: 0.7741\n",
            "Epoch 5/15\n",
            "38/38 [==============================] - 9s 225ms/step - loss: 0.3432 - accuracy: 0.8771 - val_loss: 0.5066 - val_accuracy: 0.8704\n",
            "Epoch 6/15\n",
            "38/38 [==============================] - 9s 237ms/step - loss: 0.3233 - accuracy: 0.9086 - val_loss: 0.4974 - val_accuracy: 0.8721\n",
            "Epoch 7/15\n",
            "38/38 [==============================] - 9s 228ms/step - loss: 0.1399 - accuracy: 0.9581 - val_loss: 0.4807 - val_accuracy: 0.8854\n",
            "Epoch 8/15\n",
            "38/38 [==============================] - 9s 236ms/step - loss: 0.1054 - accuracy: 0.9697 - val_loss: 0.4729 - val_accuracy: 0.8970\n",
            "Epoch 9/15\n",
            "38/38 [==============================] - 9s 230ms/step - loss: 0.0892 - accuracy: 0.9718 - val_loss: 0.4655 - val_accuracy: 0.9070\n",
            "\n",
            "Akurasi training set sudah mencapai > 97% dan validation set sudah mencapai > 90%, hentikan proses training!\n"
          ]
        }
      ]
    },
    {
      "cell_type": "markdown",
      "metadata": {
        "id": "4ZjU9IHd3ZU7"
      },
      "source": [
        "Dapat dilihat melalui proses diatas, model berhasil mencapai akurasi diatas 97% yaitu pada titik 97,18% dan validation set juga sudah mencapai diatas 90% yaitu pada titik 90,70% sehingga fungsi callbacks menghentikan training secara otomatis. Proses training ini memakan waktu selama 1 menit 22 detik."
      ]
    },
    {
      "cell_type": "markdown",
      "metadata": {
        "id": "z4MY2Nxy3wzu"
      },
      "source": [
        "# **5. Visualisasi Akurasi Data**"
      ]
    },
    {
      "cell_type": "markdown",
      "metadata": {
        "id": "nEDqdn9Z3-Cv"
      },
      "source": [
        "Menampilkan visualisasi data berdasarkan model yang sudah dibuat"
      ]
    },
    {
      "cell_type": "markdown",
      "metadata": {
        "id": "IN5b4Ir44gkF"
      },
      "source": [
        "**Plot Akurasi**"
      ]
    },
    {
      "cell_type": "code",
      "metadata": {
        "colab": {
          "base_uri": "https://localhost:8080/",
          "height": 350
        },
        "id": "6LLg9sL64BIx",
        "outputId": "707f22be-7cdd-450c-dcd9-cf5aab60eebc"
      },
      "source": [
        "plt.figure(figsize=(8,5))\n",
        "plt.plot(nlp_model.history['accuracy'], label='train_accuracy')\n",
        "plt.plot(nlp_model.history['val_accuracy'], label='validation_accuracy')\n",
        "plt.title('Model Accuracy')\n",
        "plt.xlabel('Epochs')\n",
        "plt.ylabel('Accuracy')\n",
        "plt.legend()\n",
        "plt.ylim(ymin=0, ymax=1)\n",
        "plt.show()"
      ],
      "execution_count": 54,
      "outputs": [
        {
          "output_type": "display_data",
          "data": {
            "image/png": "[encoded data removed]",
            "text/plain": [
              "<Figure size 576x360 with 1 Axes>"
            ]
          },
          "metadata": {
            "needs_background": "light"
          }
        }
      ]
    },
    {
      "cell_type": "markdown",
      "metadata": {
        "id": "PVN3RPhc4jCa"
      },
      "source": [
        "**Plot Loss**"
      ]
    },
    {
      "cell_type": "code",
      "metadata": {
        "colab": {
          "base_uri": "https://localhost:8080/",
          "height": 295
        },
        "id": "Tj4xLOyE4USw",
        "outputId": "334d50bc-fd87-4418-f2c9-d3b72365a059"
      },
      "source": [
        "plt.plot(nlp_model.history['loss'])\n",
        "plt.plot(nlp_model.history['val_loss'])\n",
        "plt.title('Model Loss')\n",
        "plt.ylabel('loss')\n",
        "plt.xlabel('epoch')\n",
        "plt.legend(['Train', 'Test'], loc='upper right')\n",
        "plt.show()"
      ],
      "execution_count": 55,
      "outputs": [
        {
          "output_type": "display_data",
          "data": {
            "image/png": "[encoded data removed]",
            "text/plain": [
              "<Figure size 432x288 with 1 Axes>"
            ]
          },
          "metadata": {
            "needs_background": "light"
          }
        }
      ]
    },
    {
      "cell_type": "markdown",
      "metadata": {
        "id": "0pRogXg14lqR"
      },
      "source": [
        "# **Kesimpulan**"
      ]
    },
    {
      "cell_type": "markdown",
      "metadata": {
        "id": "v6tU7OHU4qzC"
      },
      "source": [
        "Melalui proses evaluasi model diatas, LSTM model yang sudah saya bangun mampu memberikan akurasi 97,18% dan akurasi validation set 90,70% pada 3.010 data dengan 7 kategori berita, dengan parameter-parameter di bawah ini:\n",
        "\n",
        "*   Unit LSTM : 128\n",
        "*   Batch size : 64\n",
        "*   Epoch : 15\n",
        "*   Fungsi aktivasi : relu, softmax\n",
        "*   Optimizer : Adam\n",
        "*   Loss function : categorical-crossentropy\n",
        "*   Verbose : 1\n",
        "*   Dropout : 0.5\n",
        "\n",
        "Penggunaan hyperparameter diatas saya lakukan secara repetitif sampai menemukan hyperparameter terbaik dan menghasilkan akurasi yang bagus. Selain itu pada iterasi epoch ke-9 model sudah mampu memberikan akurasi sebesar 97,18% dan akurasi validation set 90,70% sehingga proses training dihentikan oleh fungsi callbacks."
      ]
    }
  ]
}